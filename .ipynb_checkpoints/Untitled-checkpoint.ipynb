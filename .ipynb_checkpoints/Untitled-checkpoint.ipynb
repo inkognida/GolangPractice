{
 "cells": [
  {
   "cell_type": "code",
   "execution_count": 11,
   "id": "f84f5e47",
   "metadata": {},
   "outputs": [
    {
     "data": {
      "text/plain": [
       "[1, 3, 5]"
      ]
     },
     "execution_count": 11,
     "metadata": {},
     "output_type": "execute_result"
    }
   ],
   "source": [
    "n = 3\n",
    "prev_row = list()\n",
    "\n",
    "for i in range(1,n*(n-1),2):\n",
    "    prev_row.append(i)\n",
    "prev_row"
   ]
  },
  {
   "cell_type": "code",
   "execution_count": 16,
   "id": "a6601c0b",
   "metadata": {},
   "outputs": [
    {
     "data": {
      "text/plain": [
       "27"
      ]
     },
     "execution_count": 16,
     "metadata": {},
     "output_type": "execute_result"
    }
   ],
   "source": [
    "def row_sum(n: int):\n",
    "    prev_row: list[int] = []\n",
    "    n_row: list[int] = []\n",
    "\n",
    "    if n > 1:\n",
    "        for i in range(1,n*(n-1),2):\n",
    "            prev_row.append(i)\n",
    "\n",
    "        for i in range(prev_row[-1]+2, prev_row[-1]+(n*2)+2, 2):\n",
    "            n_row.append(i)\n",
    "    else:\n",
    "        return 1\n",
    "row_sum(3)"
   ]
  },
  {
   "cell_type": "code",
   "execution_count": null,
   "id": "610f5fa2",
   "metadata": {},
   "outputs": [],
   "source": []
  }
 ],
 "metadata": {
  "kernelspec": {
   "display_name": "Python 3 (ipykernel)",
   "language": "python",
   "name": "python3"
  },
  "language_info": {
   "codemirror_mode": {
    "name": "ipython",
    "version": 3
   },
   "file_extension": ".py",
   "mimetype": "text/x-python",
   "name": "python",
   "nbconvert_exporter": "python",
   "pygments_lexer": "ipython3",
   "version": "3.9.15"
  }
 },
 "nbformat": 4,
 "nbformat_minor": 5
}
